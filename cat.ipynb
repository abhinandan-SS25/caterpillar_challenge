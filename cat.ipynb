{
 "cells": [
  {
   "cell_type": "code",
   "execution_count": 11,
   "metadata": {},
   "outputs": [],
   "source": [
    "# import of required libraries\n",
    "import pandas as pd\n",
    "import  matplotlib\n",
    "import random"
   ]
  },
  {
   "cell_type": "code",
   "execution_count": 132,
   "metadata": {},
   "outputs": [],
   "source": [
    "# Class to handle session files as different objects\n",
    "class Session:\n",
    "    requests = [] # Reads in the session requests\n",
    "    outputs = [] # outputs for each corresponding request\n",
    "    fuel_level = [] # maintains fuel level over time\n",
    "\n",
    "    # Initialize session object with new session file\n",
    "    def __init__(self):\n",
    "        self.outputs = []\n",
    "        self.requests = []\n",
    "\n",
    "    def read_session(self, file):\n",
    "        self.outputs = []\n",
    "        # Read new session file and requests in it\n",
    "        with open(file) as f:\n",
    "            line = f.read()\n",
    "            line = line.split(\" \")\n",
    "            self.requests = line\n",
    "    \n",
    "    # Function to get the output for reuests in file with which it was initialized\n",
    "    def get_output(self):\n",
    "        # Simulates fuel reading and adds data to total session recordings\n",
    "        # Done here, because although there is a request fro getting the current fuel level, it might not be triggered\n",
    "        # in this session, so get a reading on the current reading anyway\n",
    "        self.fuel_level.append(int(random.randrange(1000, 10000)))\n",
    "\n",
    "        # Counter to go through all requests\n",
    "        c = 0\n",
    "\n",
    "        # Loop reads all requests in session and produces corresponding output\n",
    "        while c < len(self.requests):\n",
    "            # Reads in request\n",
    "            request = int(self.requests[c], 2)\n",
    "\n",
    "            # Handles start of request\n",
    "            if request == 0b001:\n",
    "                self.outputs.append(bin(0b001))\n",
    "            # Handles end of request\n",
    "            elif request == 0b100:\n",
    "                self.outputs.append(bin(0b100))\n",
    "            # Handles rquest for fuel level report\n",
    "            elif self.requests == 0b011:\n",
    "                self.outputs.append(bin(0b011))\n",
    "                # simulate fuel level report reading\n",
    "                self.outputs.append(bin(random.randrange(1000, 10000)))\n",
    "            # Handles request for status of fuel component\n",
    "            elif request == 0b010:\n",
    "                # In this case, the next binary number is the component identifier\n",
    "                c = c + 1\n",
    "                component = self.requests[c] # identified component\n",
    "                # Output for request starts with 010\n",
    "                self.outputs.append(bin(0b010))\n",
    "                # Simulates status of identified component\n",
    "                # For simulation purposes, I have maintained a 1/2 probability of success and failure - not ideal in real world\n",
    "                if random.random() < 0.5:\n",
    "                    # component is ok\n",
    "                    self.outputs.append(bin(0b101))\n",
    "                else:\n",
    "                    # component is not ok and fail code\n",
    "                    self.outputs.append(bin(0b110))\n",
    "                    self.outputs.append(bin(random.randrange(8, 16)))\n",
    "            c += 1 # increament for going to next request\n",
    "\n",
    "        return self.outputs # return the outputs\n",
    "\n",
    "    def plot_fuel(self):\n",
    "        return pd.Series(self.fuel_level, index=range(len(self.fuel_level))).plot.line()\n"
   ]
  },
  {
   "cell_type": "code",
   "execution_count": 133,
   "metadata": {},
   "outputs": [],
   "source": [
    "s = Session()"
   ]
  },
  {
   "cell_type": "code",
   "execution_count": 134,
   "metadata": {},
   "outputs": [],
   "source": [
    "s.read_session(\"./session.txt\")"
   ]
  },
  {
   "cell_type": "code",
   "execution_count": 141,
   "metadata": {},
   "outputs": [
    {
     "data": {
      "text/plain": [
       "[3915, 2356, 6827, 9254]"
      ]
     },
     "execution_count": 141,
     "metadata": {},
     "output_type": "execute_result"
    }
   ],
   "source": [
    "s.fuel_level"
   ]
  },
  {
   "cell_type": "code",
   "execution_count": 142,
   "metadata": {},
   "outputs": [
    {
     "data": {
      "text/plain": [
       "<Axes: >"
      ]
     },
     "execution_count": 142,
     "metadata": {},
     "output_type": "execute_result"
    },
    {
     "data": {
      "image/png": "[encoded data removed]",
      "text/plain": [
       "<Figure size 640x480 with 1 Axes>"
      ]
     },
     "metadata": {},
     "output_type": "display_data"
    }
   ],
   "source": [
    "s.plot_fuel()"
   ]
  },
  {
   "cell_type": "code",
   "execution_count": null,
   "metadata": {},
   "outputs": [],
   "source": []
  }
 ],
 "metadata": {
  "kernelspec": {
   "display_name": "Python 3",
   "language": "python",
   "name": "python3"
  },
  "language_info": {
   "codemirror_mode": {
    "name": "ipython",
    "version": 3
   },
   "file_extension": ".py",
   "mimetype": "text/x-python",
   "name": "python",
   "nbconvert_exporter": "python",
   "pygments_lexer": "ipython3",
   "version": "3.12.4"
  }
 },
 "nbformat": 4,
 "nbformat_minor": 2
}
